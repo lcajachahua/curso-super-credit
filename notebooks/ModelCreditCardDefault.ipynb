{
  "cells": [
    {
      "cell_type": "markdown",
      "metadata": {
        "id": "DOGa617qS5Ly"
      },
      "source": [
        "# Caso: Modelo de Predicción de Default en Tarjetas de Crédito\n",
        "\n",
        "Puede descargar los datos de: https://archive.ics.uci.edu/ml/datasets/default+of+credit+card+clients#"
      ]
    },
    {
      "cell_type": "markdown",
      "metadata": {
        "id": "6pJ7A_03QMSJ"
      },
      "source": [
        "### Instalar las librerías"
      ]
    },
    {
      "cell_type": "code",
      "execution_count": null,
      "metadata": {
        "id": "sUu4EsJ0b9y2"
      },
      "outputs": [],
      "source": [
        "! pip install kds"
      ]
    },
    {
      "cell_type": "markdown",
      "metadata": {
        "id": "2uKqxuVvS5MC"
      },
      "source": [
        "### **1. Carga de Modulos**"
      ]
    },
    {
      "cell_type": "code",
      "execution_count": null,
      "metadata": {
        "id": "AnIT4fBaS5MD"
      },
      "outputs": [],
      "source": [
        "import warnings\n",
        "warnings.filterwarnings('always')\n",
        "warnings.filterwarnings('ignore')\n",
        "\n",
        "import numpy as np\n",
        "import pandas as pd\n",
        "import matplotlib.pyplot as plt\n",
        "from matplotlib import style\n",
        "from matplotlib.legend_handler import HandlerBase\n",
        "import seaborn as sns\n",
        "import missingno as msno\n",
        "\n",
        "%matplotlib inline  \n",
        "style.use('fivethirtyeight')\n",
        "sns.set(style='whitegrid',color_codes=True)\n",
        "\n",
        "from sklearn.linear_model import LogisticRegression\n",
        "from sklearn.ensemble import RandomForestClassifier,GradientBoostingClassifier\n",
        "from sklearn.tree import DecisionTreeClassifier\n",
        "\n",
        "from sklearn.model_selection import train_test_split,cross_validate\n",
        "from sklearn.model_selection import KFold\n",
        "from sklearn.model_selection import GridSearchCV\n",
        "from sklearn.preprocessing import LabelEncoder\n",
        "\n",
        "from sklearn.metrics import confusion_matrix,accuracy_score,precision_score,recall_score,f1_score,plot_roc_curve  # for classification\n",
        "\n",
        "import kds"
      ]
    },
    {
      "cell_type": "markdown",
      "metadata": {
        "id": "UnPnopgUS5MN"
      },
      "source": [
        "### **2. Lectura Inicial de base de datos**"
      ]
    },
    {
      "cell_type": "markdown",
      "metadata": {
        "id": "vXGXaQV9S5MO"
      },
      "source": [
        "#### 2.1. Carga de datos"
      ]
    },
    {
      "cell_type": "code",
      "execution_count": null,
      "metadata": {
        "id": "pJ3QaE1oS5MP"
      },
      "outputs": [],
      "source": [
        "# Leemos la data de desarrollo de modelos\n",
        "df = pd.read_csv(\"defaultcc.csv\") "
      ]
    },
    {
      "cell_type": "code",
      "execution_count": null,
      "metadata": {
        "id": "cS6x4KsDS5MV"
      },
      "outputs": [],
      "source": [
        "# Vemos la dimensionalidad\n",
        "df.shape"
      ]
    },
    {
      "cell_type": "code",
      "execution_count": null,
      "metadata": {
        "id": "zm4WmZlxS5Me"
      },
      "outputs": [],
      "source": [
        "# Visualizacion Global de los datos\n",
        "df.head()"
      ]
    },
    {
      "cell_type": "code",
      "execution_count": null,
      "metadata": {
        "id": "_edLyGXWQMSN"
      },
      "outputs": [],
      "source": [
        "df.drop(['ID'],axis=1,inplace=True)"
      ]
    },
    {
      "cell_type": "markdown",
      "metadata": {
        "id": "q53Kq9unS5Ml"
      },
      "source": [
        "#### 2.2. Buenas prácticas"
      ]
    },
    {
      "cell_type": "code",
      "execution_count": null,
      "metadata": {
        "id": "4sLayKIqS5Mn"
      },
      "outputs": [],
      "source": [
        "df.columns"
      ]
    },
    {
      "cell_type": "code",
      "execution_count": null,
      "metadata": {
        "id": "EBDP7lrhQMSO"
      },
      "outputs": [],
      "source": [
        "df.info()"
      ]
    },
    {
      "cell_type": "markdown",
      "metadata": {
        "id": "z-xwHgOuS5M8"
      },
      "source": [
        "#### 3. AED"
      ]
    },
    {
      "cell_type": "markdown",
      "metadata": {
        "id": "XASOd9Y3S5NN"
      },
      "source": [
        "#### 3.1. Completitud de los datos"
      ]
    },
    {
      "cell_type": "code",
      "execution_count": null,
      "metadata": {
        "id": "ft_rOdkxS5NO"
      },
      "outputs": [],
      "source": [
        "# Revisamos los valores nulos o missings!\n",
        "df.isnull().sum()"
      ]
    },
    {
      "cell_type": "code",
      "execution_count": null,
      "metadata": {
        "id": "S3IV-Y-LS5NU"
      },
      "outputs": [],
      "source": [
        "## Para variables Cualitativas\n",
        "def plot_cat(feature):\n",
        "  sns.countplot(data=df,x=feature)\n",
        "  ax=sns.countplot(data=df,x=feature)"
      ]
    },
    {
      "cell_type": "markdown",
      "metadata": {
        "id": "QQ4an-XMc2yg"
      },
      "source": [
        "#### 3.2. Análisis Univariado"
      ]
    },
    {
      "cell_type": "code",
      "execution_count": null,
      "metadata": {
        "id": "7-JORHWZQMSQ"
      },
      "outputs": [],
      "source": [
        "plot_cat('DEFAULT')"
      ]
    },
    {
      "cell_type": "code",
      "execution_count": null,
      "metadata": {
        "id": "XWCHbH4bQMSQ"
      },
      "outputs": [],
      "source": [
        "## Calculando la proporción del Target\n",
        "df.DEFAULT.value_counts(normalize=True)"
      ]
    },
    {
      "cell_type": "code",
      "execution_count": null,
      "metadata": {
        "id": "d3suGh0zQMSQ"
      },
      "outputs": [],
      "source": [
        "plot_cat('SEX')"
      ]
    },
    {
      "cell_type": "code",
      "execution_count": null,
      "metadata": {
        "id": "HiFYQQ7VQMSQ"
      },
      "outputs": [],
      "source": [
        "df.groupby('SEX').DEFAULT.value_counts(normalize=True).unstack(fill_value=0)"
      ]
    },
    {
      "cell_type": "code",
      "execution_count": null,
      "metadata": {
        "id": "_aQucUgoQMSR"
      },
      "outputs": [],
      "source": [
        "plot_cat('EDUCATION')"
      ]
    },
    {
      "cell_type": "code",
      "execution_count": null,
      "metadata": {
        "id": "FmZgpeh0QMSR"
      },
      "outputs": [],
      "source": [
        "df.groupby('EDUCATION').DEFAULT.value_counts(normalize=True).unstack(fill_value=0)"
      ]
    },
    {
      "cell_type": "code",
      "execution_count": null,
      "metadata": {
        "id": "IeKasgRPQMSR"
      },
      "outputs": [],
      "source": [
        "plot_cat('MARRIAGE')"
      ]
    },
    {
      "cell_type": "code",
      "execution_count": null,
      "metadata": {
        "id": "btQaSgCwQMSR"
      },
      "outputs": [],
      "source": [
        "df.groupby('MARRIAGE').DEFAULT.value_counts(normalize=True).unstack(fill_value=0)"
      ]
    },
    {
      "cell_type": "code",
      "execution_count": null,
      "metadata": {
        "id": "Iwj7F8MeQMSR"
      },
      "outputs": [],
      "source": [
        "## Para variables cuantitativas\n",
        "def plot_num(feature):\n",
        "    fig,axes=plt.subplots(1,2)\n",
        "    sns.boxplot(data=df,x=feature,ax=axes[0])\n",
        "    sns.distplot(a=df[feature],ax=axes[1],color='#ff4125')\n",
        "    fig.set_size_inches(15,5)"
      ]
    },
    {
      "cell_type": "code",
      "execution_count": null,
      "metadata": {
        "id": "o1_9gtiCQMSS"
      },
      "outputs": [],
      "source": [
        "plot_num('LIMIT_BAL')"
      ]
    },
    {
      "cell_type": "code",
      "execution_count": null,
      "metadata": {
        "id": "1GmZYLNEQMSS"
      },
      "outputs": [],
      "source": [
        "plot_num('AGE')"
      ]
    },
    {
      "cell_type": "code",
      "execution_count": null,
      "metadata": {
        "id": "PUDsZv0ZQMSS"
      },
      "outputs": [],
      "source": [
        "plot_num('PAY_1')"
      ]
    },
    {
      "cell_type": "code",
      "execution_count": null,
      "metadata": {
        "id": "yVZu2Dz7QMSS"
      },
      "outputs": [],
      "source": [
        "df.groupby('PAY_1').DEFAULT.value_counts(normalize=True).unstack(fill_value=0)"
      ]
    },
    {
      "cell_type": "code",
      "execution_count": null,
      "metadata": {
        "tags": [],
        "id": "w9VCYhMmQMSS"
      },
      "outputs": [],
      "source": [
        "plot_num('PAY_2')"
      ]
    },
    {
      "cell_type": "code",
      "execution_count": null,
      "metadata": {
        "id": "9B1fkoocQMST"
      },
      "outputs": [],
      "source": [
        "df.groupby('PAY_2').DEFAULT.value_counts(normalize=True).unstack(fill_value=0)"
      ]
    },
    {
      "cell_type": "code",
      "execution_count": null,
      "metadata": {
        "id": "kYLCEzdtQMST"
      },
      "outputs": [],
      "source": [
        "plot_num('PAY_3')"
      ]
    },
    {
      "cell_type": "code",
      "execution_count": null,
      "metadata": {
        "id": "4Boc9T7nQMST"
      },
      "outputs": [],
      "source": [
        "df.groupby('PAY_3').DEFAULT.value_counts(normalize=True).unstack(fill_value=0)"
      ]
    },
    {
      "cell_type": "code",
      "execution_count": null,
      "metadata": {
        "id": "w21o77rkQMST"
      },
      "outputs": [],
      "source": [
        "plot_num('PAY_4')"
      ]
    },
    {
      "cell_type": "code",
      "execution_count": null,
      "metadata": {
        "id": "7Cr4fcwCQMSU"
      },
      "outputs": [],
      "source": [
        "df.groupby('PAY_4').DEFAULT.value_counts(normalize=True).unstack(fill_value=0)"
      ]
    },
    {
      "cell_type": "code",
      "execution_count": null,
      "metadata": {
        "id": "UhA4EVQwQMSU"
      },
      "outputs": [],
      "source": [
        "plot_num('PAY_5')"
      ]
    },
    {
      "cell_type": "code",
      "execution_count": null,
      "metadata": {
        "id": "Cs7Nh9yTQMSU"
      },
      "outputs": [],
      "source": [
        "df.groupby('PAY_5').DEFAULT.value_counts(normalize=True).unstack(fill_value=0)"
      ]
    },
    {
      "cell_type": "code",
      "execution_count": null,
      "metadata": {
        "id": "QzogWyKzQMSU"
      },
      "outputs": [],
      "source": [
        "plot_num('PAY_6')"
      ]
    },
    {
      "cell_type": "code",
      "execution_count": null,
      "metadata": {
        "id": "riIFTGQwQMSU"
      },
      "outputs": [],
      "source": [
        "df.groupby('PAY_6').DEFAULT.value_counts(normalize=True).unstack(fill_value=0)"
      ]
    },
    {
      "cell_type": "code",
      "execution_count": null,
      "metadata": {
        "id": "MOpYoLQhQMSV"
      },
      "outputs": [],
      "source": [
        "## Matriz de corelaciones\n",
        "cor_mat = df[['PAY_1','PAY_2','PAY_3','PAY_4','PAY_5','PAY_6']].corr()\n",
        "mask = np.array(cor_mat)\n",
        "mask[np.tril_indices_from(mask)] = False\n",
        "fig = plt.gcf()\n",
        "fig.set_size_inches(30,12)\n",
        "sns.heatmap(data=cor_mat,mask=mask,square=True,annot=True,cbar=True)"
      ]
    },
    {
      "cell_type": "code",
      "execution_count": null,
      "metadata": {
        "id": "RM6rb749QMSV"
      },
      "outputs": [],
      "source": [
        "plot_num('BILL_AMT1')"
      ]
    },
    {
      "cell_type": "code",
      "execution_count": null,
      "metadata": {
        "id": "TVucdLFuQMSV"
      },
      "outputs": [],
      "source": [
        "plot_num('BILL_AMT2')"
      ]
    },
    {
      "cell_type": "code",
      "execution_count": null,
      "metadata": {
        "id": "9r2JG7TeQMSV"
      },
      "outputs": [],
      "source": [
        "plot_num('BILL_AMT3')"
      ]
    },
    {
      "cell_type": "code",
      "execution_count": null,
      "metadata": {
        "id": "dI3ZnfcpQMSV"
      },
      "outputs": [],
      "source": [
        "plot_num('BILL_AMT4')"
      ]
    },
    {
      "cell_type": "code",
      "execution_count": null,
      "metadata": {
        "id": "YaCQy7jsQMSW"
      },
      "outputs": [],
      "source": [
        "plot_num('BILL_AMT5')"
      ]
    },
    {
      "cell_type": "code",
      "execution_count": null,
      "metadata": {
        "id": "dkunm0B6QMSW"
      },
      "outputs": [],
      "source": [
        "plot_num('BILL_AMT6')"
      ]
    },
    {
      "cell_type": "code",
      "execution_count": null,
      "metadata": {
        "id": "sVw-oJ-oQMSW"
      },
      "outputs": [],
      "source": [
        "## Matriz de corelaciones\n",
        "cor_mat = df[['BILL_AMT1','BILL_AMT2','BILL_AMT3','BILL_AMT4','BILL_AMT5','BILL_AMT6']].corr()\n",
        "mask = np.array(cor_mat)\n",
        "mask[np.tril_indices_from(mask)] = False\n",
        "fig = plt.gcf()\n",
        "fig.set_size_inches(30,12)\n",
        "sns.heatmap(data=cor_mat,mask=mask,square=True,annot=True,cbar=True)"
      ]
    },
    {
      "cell_type": "code",
      "execution_count": null,
      "metadata": {
        "id": "PiIQQw-KQMSW"
      },
      "outputs": [],
      "source": [
        "## Revisemos la correlación entre pares de variables\n",
        "fig, ax = plt.subplots()\n",
        "ax.scatter(x =(df['BILL_AMT1']), y = df['BILL_AMT2'])\n",
        "plt.ylabel('BILL_AMT2')\n",
        "plt.xlabel('BILL_AMT1')\n",
        "plt.show()   "
      ]
    },
    {
      "cell_type": "code",
      "execution_count": null,
      "metadata": {
        "id": "6uCz71-UQMSX"
      },
      "outputs": [],
      "source": [
        "plot_num('PAY_AMT1')"
      ]
    },
    {
      "cell_type": "code",
      "execution_count": null,
      "metadata": {
        "id": "7mw5WETVQMSX"
      },
      "outputs": [],
      "source": [
        "plot_num('PAY_AMT1')"
      ]
    },
    {
      "cell_type": "code",
      "execution_count": null,
      "metadata": {
        "id": "-Ek-rwDMQMSX"
      },
      "outputs": [],
      "source": [
        "plot_num('PAY_AMT1')"
      ]
    },
    {
      "cell_type": "code",
      "execution_count": null,
      "metadata": {
        "id": "4KQBnzE0QMSX"
      },
      "outputs": [],
      "source": [
        "plot_num('PAY_AMT1')"
      ]
    },
    {
      "cell_type": "code",
      "execution_count": null,
      "metadata": {
        "id": "bn-Q2_nEQMSY"
      },
      "outputs": [],
      "source": [
        "plot_num('PAY_AMT1')"
      ]
    },
    {
      "cell_type": "code",
      "execution_count": null,
      "metadata": {
        "id": "c_SaTp3JQMSY"
      },
      "outputs": [],
      "source": [
        "plot_num('PAY_AMT1')"
      ]
    },
    {
      "cell_type": "code",
      "execution_count": null,
      "metadata": {
        "id": "4QwPk3L2QMSY"
      },
      "outputs": [],
      "source": [
        "## Matriz de corelaciones\n",
        "cor_mat = df[['PAY_AMT1','PAY_AMT2','PAY_AMT3','PAY_AMT4','PAY_AMT5','PAY_AMT6']].corr()\n",
        "mask = np.array(cor_mat)\n",
        "mask[np.tril_indices_from(mask)] = False\n",
        "fig = plt.gcf()\n",
        "fig.set_size_inches(30,12)\n",
        "sns.heatmap(data=cor_mat,mask=mask,square=True,annot=True,cbar=True)"
      ]
    },
    {
      "cell_type": "code",
      "execution_count": null,
      "metadata": {
        "tags": [],
        "id": "MMh-6c5mQMSY"
      },
      "outputs": [],
      "source": [
        "## Matriz de corelaciones\n",
        "cor_mat = df[['LIMIT_BAL','PAY_1','PAY_2','BILL_AMT1','BILL_AMT2','PAY_AMT1','PAY_AMT2']].corr()\n",
        "mask = np.array(cor_mat)\n",
        "mask[np.tril_indices_from(mask)] = False\n",
        "fig = plt.gcf()\n",
        "fig.set_size_inches(30,12)\n",
        "sns.heatmap(data=cor_mat,mask=mask,square=True,annot=True,cbar=True)"
      ]
    },
    {
      "cell_type": "markdown",
      "metadata": {
        "id": "aHTsaQmMS5Nb"
      },
      "source": [
        "Observamos que no existen correlaciones significativas entre los tres grupos de variables"
      ]
    },
    {
      "cell_type": "markdown",
      "metadata": {
        "id": "d8j470AQS5N-"
      },
      "source": [
        "#### 3.2. Recodificacion y transformación de los datos"
      ]
    },
    {
      "cell_type": "code",
      "execution_count": null,
      "metadata": {
        "id": "xquttuiVQMSZ"
      },
      "outputs": [],
      "source": [
        "# Convertimos SEX en dummy\n",
        "df.SEX=df.SEX-1"
      ]
    },
    {
      "cell_type": "code",
      "execution_count": null,
      "metadata": {
        "id": "o2mymZMvQMSZ"
      },
      "outputs": [],
      "source": [
        "# Creamos tres Variables Dummy para EDUCATION\n",
        "df['EDUCATION_1']=[1 if i == 1 else 0 for i in df['EDUCATION']]\n",
        "df['EDUCATION_2']=[1 if i == 2 else 0 for i in df['EDUCATION']]\n",
        "df['EDUCATION_3']=[1 if i == 3 else 0 for i in df['EDUCATION']]"
      ]
    },
    {
      "cell_type": "code",
      "execution_count": null,
      "metadata": {
        "id": "Mc5fK5VVQMSa"
      },
      "outputs": [],
      "source": [
        "# Creamos dos Variables Dummy para MARRIAGE\n",
        "df['MARRIAGE_1']=[1 if i == 1 else 0 for i in df['MARRIAGE']]\n",
        "df['MARRIAGE_2']=[1 if i == 2 else 0 for i in df['MARRIAGE']]"
      ]
    },
    {
      "cell_type": "code",
      "execution_count": null,
      "metadata": {
        "id": "YlzQ3eI1QMSa"
      },
      "outputs": [],
      "source": [
        "## Generar variables Cuantitativas transformadas\n",
        "LIST_BILL = ['BILL_AMT1','BILL_AMT2','BILL_AMT3','BILL_AMT4','BILL_AMT5','BILL_AMT6']\n",
        "for i in LIST_BILL:\n",
        " df.loc[df.loc[:,i]==-1,i]=0"
      ]
    },
    {
      "cell_type": "code",
      "execution_count": null,
      "metadata": {
        "id": "KzFML03XQMSa"
      },
      "outputs": [],
      "source": [
        "df['LOG_BILL_AMT1'] = round(np.log1p(df['BILL_AMT1']),5)\n",
        "df['LOG_BILL_AMT2'] = round(np.log1p(df['BILL_AMT2']),5)\n",
        "df['LOG_BILL_AMT3'] = round(np.log1p(df['BILL_AMT3']),5)\n",
        "df['LOG_BILL_AMT4'] = round(np.log1p(df['BILL_AMT4']),5)\n",
        "df['LOG_BILL_AMT5'] = round(np.log1p(df['BILL_AMT5']),5)\n",
        "df['LOG_BILL_AMT6'] = round(np.log1p(df['BILL_AMT6']),5)\n",
        "df['LOG_PAY_AMT1'] = round(np.log1p(df['PAY_AMT1']),5)\n",
        "df['LOG_PAY_AMT2'] = round(np.log1p(df['PAY_AMT2']),5)\n",
        "df['LOG_PAY_AMT3'] = round(np.log1p(df['PAY_AMT3']),5)\n",
        "df['LOG_PAY_AMT4'] = round(np.log1p(df['PAY_AMT4']),5)\n",
        "df['LOG_PAY_AMT5'] = round(np.log1p(df['PAY_AMT5']),5)\n",
        "df['LOG_PAY_AMT6'] = round(np.log1p(df['PAY_AMT6']),5)"
      ]
    },
    {
      "cell_type": "code",
      "execution_count": null,
      "metadata": {
        "id": "_0cyf4ikQMSa"
      },
      "outputs": [],
      "source": [
        "LIST_PAY  = ['PAY_1','PAY_2','PAY_3','PAY_4','PAY_5','PAY_6']\n",
        "LIST_BILL = ['LOG_BILL_AMT1','LOG_BILL_AMT2','LOG_BILL_AMT3','LOG_BILL_AMT4','LOG_BILL_AMT5','LOG_BILL_AMT6']\n",
        "LIST_PAMT = ['LOG_PAY_AMT1','LOG_PAY_AMT2','LOG_PAY_AMT3','LOG_PAY_AMT4','LOG_PAY_AMT5','LOG_PAY_AMT6']"
      ]
    },
    {
      "cell_type": "code",
      "execution_count": null,
      "metadata": {
        "id": "kN0Of9vnQMSa"
      },
      "outputs": [],
      "source": [
        "for i in LIST_BILL:\n",
        " df.loc[df.loc[:,i].isnull(),i]=0"
      ]
    },
    {
      "cell_type": "markdown",
      "metadata": {
        "id": "XAHbg9rhS5Oi"
      },
      "source": [
        "### **4. Ingeniería y Selección de Variables**"
      ]
    },
    {
      "cell_type": "markdown",
      "metadata": {
        "id": "WRM_DjK3S5Oj"
      },
      "source": [
        "#### 4.1. Ingenieria de variables"
      ]
    },
    {
      "cell_type": "code",
      "execution_count": null,
      "metadata": {
        "tags": [],
        "id": "9NACfkz1QMSb"
      },
      "outputs": [],
      "source": [
        "## Creamos las variables para el entrenamiento o train\n",
        "df['SUM_PAY_TOT']    = df[LIST_PAY].sum(axis=1)\n",
        "df['STD_PAY_TOT']    = df[LIST_PAY].std(axis=1)\n",
        "df['SUM_PAY_REC']    = df['PAY_1'] + df['PAY_2']\n",
        "df['CANT_PAY_MAY0']  = df[LIST_PAY].gt(0).sum(axis=1)\n",
        "df['AVG_LBILL_TOT']  = df[LIST_BILL].mean(axis=1)\n",
        "df['STD_LBILL_TOT']  = df[LIST_BILL].std(axis=1)\n",
        "df['CV_LBILL_TOT']   =  df['STD_LBILL_TOT']/(df['AVG_LBILL_TOT']+1)\n",
        "df['SUM_LBILL_REC']  = df['LOG_BILL_AMT1'] + df['LOG_BILL_AMT2']\n",
        "df['CANT_LBILL_MAY0']= df[LIST_BILL].gt(0).sum(axis=1)\n",
        "df['AVG_LPAY_TOT']   = df[LIST_PAMT].mean(axis=1)\n",
        "df['STD_LPAY_TOT']   = df[LIST_PAMT].std(axis=1)\n",
        "df['CV_LPAY_TOT']    =  df['STD_LPAY_TOT']/(df['AVG_LPAY_TOT']+1)\n",
        "df['SUM_LPAY_REC']   = df['LOG_PAY_AMT1'] + df['LOG_PAY_AMT2']\n",
        "df['CANT_LPAY_MAY0'] = df[LIST_PAMT].gt(0).sum(axis=1)\n",
        "df['RATE_PAY_BILL1'] = df['PAY_AMT1']/(df['BILL_AMT1']+1)\n",
        "df['RATE_PAY_BILL2'] = df['PAY_AMT2']/(df['BILL_AMT2']+1)"
      ]
    },
    {
      "cell_type": "code",
      "execution_count": null,
      "metadata": {
        "id": "Cz-YIqWLQMSb"
      },
      "outputs": [],
      "source": [
        "df.head()"
      ]
    },
    {
      "cell_type": "code",
      "execution_count": null,
      "metadata": {
        "id": "y83P0C6BS5Ox"
      },
      "outputs": [],
      "source": [
        "df.shape"
      ]
    },
    {
      "cell_type": "markdown",
      "metadata": {
        "id": "kKjhahjJS5O4"
      },
      "source": [
        "#### 4.1. Selección de variables"
      ]
    },
    {
      "cell_type": "code",
      "execution_count": null,
      "metadata": {
        "id": "MMYsKcLmS5O-"
      },
      "outputs": [],
      "source": [
        "# Seleccion por Random Forest\n",
        "forest = RandomForestClassifier(n_jobs=-1)\n",
        "forest.fit(df.drop(['DEFAULT'],axis=1), df.DEFAULT)\n",
        "importances = forest.feature_importances_"
      ]
    },
    {
      "cell_type": "code",
      "execution_count": null,
      "metadata": {
        "id": "aM_yUBr2S5PE"
      },
      "outputs": [],
      "source": [
        "# Seleccion por Random Forest\n",
        "TablaImportancia = pd.concat([pd.DataFrame({'Driver':list(df.drop(['DEFAULT'],axis=1).columns)}),\n",
        "                              pd.DataFrame({'Importancia':list(forest.feature_importances_)})], axis = 1)\n",
        "ImportanciaVariables = TablaImportancia[['Driver','Importancia']].sort_values('Importancia', ascending = False).reset_index(drop = True)\n",
        "ImportanciaVariables"
      ]
    },
    {
      "cell_type": "code",
      "execution_count": null,
      "metadata": {
        "id": "VLieimsSQMSc"
      },
      "outputs": [],
      "source": [
        "# Regresion Logistica\n",
        "import statsmodels.api as sm\n",
        "logit_model=sm.Logit(df.DEFAULT,df.drop(['DEFAULT'],axis=1))\n",
        "result=logit_model.fit()\n",
        "print(result.summary2())"
      ]
    },
    {
      "cell_type": "code",
      "execution_count": null,
      "metadata": {
        "id": "a-69pQn7QMSc"
      },
      "outputs": [],
      "source": [
        "# Regresion Logistica Con Selección de Variables\n",
        "import statsmodels.api as sm\n",
        "logit_model=sm.Logit(df.DEFAULT,df[['EDUCATION_1','SEX','SUM_PAY_REC','PAY_1','AGE','LIMIT_BAL','STD_LBILL_TOT','CV_LPAY_TOT','CV_LBILL_TOT','STD_LPAY_TOT','CANT_PAY_MAY0','BILL_AMT1','RATE_PAY_BILL1','LOG_BILL_AMT1','AVG_LBILL_TOT','AVG_LPAY_TOT','STD_PAY_TOT']])\n",
        "result=logit_model.fit()\n",
        "print(result.summary2())"
      ]
    },
    {
      "cell_type": "code",
      "execution_count": null,
      "metadata": {
        "id": "O2tKlNhsQMSd"
      },
      "outputs": [],
      "source": [
        "## Matriz de corelaciones\n",
        "cor_mat = df[['PAY_1','AGE','LIMIT_BAL','SUM_LPAY_REC','STD_LBILL_TOT','CV_LPAY_TOT','CV_LBILL_TOT','STD_LPAY_TOT','CANT_PAY_MAY0','BILL_AMT1','RATE_PAY_BILL1','LOG_BILL_AMT1','AVG_LBILL_TOT','AVG_LPAY_TOT','STD_PAY_TOT']].corr()\n",
        "mask = np.array(cor_mat)\n",
        "mask[np.tril_indices_from(mask)] = False\n",
        "fig = plt.gcf()\n",
        "fig.set_size_inches(30,12)\n",
        "sns.heatmap(data=cor_mat,mask=mask,square=True,annot=True,cbar=True)"
      ]
    },
    {
      "cell_type": "markdown",
      "metadata": {
        "id": "rjUqWwdNS5P2"
      },
      "source": [
        "### **5. Modelamiento de Datos o Creación del Algoritmo de ML**"
      ]
    },
    {
      "cell_type": "markdown",
      "metadata": {
        "id": "YN5ZjryQS5P4"
      },
      "source": [
        "#### 5.1. Particion Muestral"
      ]
    },
    {
      "cell_type": "markdown",
      "metadata": {
        "id": "HgZ_VZxOx7KT"
      },
      "source": [
        "Seleccionamos las variables más importantes"
      ]
    },
    {
      "cell_type": "code",
      "execution_count": null,
      "metadata": {
        "id": "_Z07-KbmQMSd"
      },
      "outputs": [],
      "source": [
        "data = df[['EDUCATION_1','SEX','PAY_1','AGE','LIMIT_BAL','SUM_LPAY_REC','STD_LBILL_TOT','CV_LPAY_TOT','CV_LBILL_TOT','STD_LPAY_TOT','CANT_PAY_MAY0','BILL_AMT1','RATE_PAY_BILL1','LOG_BILL_AMT1','SUM_LBILL_REC','AVG_LBILL_TOT','AVG_LPAY_TOT','STD_PAY_TOT','DEFAULT']].sample(frac=0.9, random_state=1000)\n",
        "data_unseen = df[['EDUCATION_1','SEX','PAY_1','AGE','LIMIT_BAL','SUM_LPAY_REC','STD_LBILL_TOT','CV_LPAY_TOT','CV_LBILL_TOT','STD_LPAY_TOT','CANT_PAY_MAY0','BILL_AMT1','RATE_PAY_BILL1','LOG_BILL_AMT1','SUM_LBILL_REC','AVG_LBILL_TOT','AVG_LPAY_TOT','STD_PAY_TOT','DEFAULT']].drop(data.index)\n",
        "data.reset_index(inplace=True, drop=True)\n",
        "data_unseen.reset_index(inplace=True, drop=True)\n",
        "print('Data for Modeling: ' + str(data.shape))\n",
        "print('Unseen Data For Predictions: ' + str(data_unseen.shape))"
      ]
    },
    {
      "cell_type": "code",
      "execution_count": null,
      "metadata": {
        "id": "SJYlsm09S5P-"
      },
      "outputs": [],
      "source": [
        "# Creación de los datos de train y test\n",
        "from sklearn.model_selection import train_test_split\n",
        "X_train, X_test, y_train, y_test = train_test_split(data.drop(['DEFAULT'],axis=1),\n",
        "                                                   data.DEFAULT,\n",
        "                                                   test_size=0.333,\n",
        "                                                   random_state=12345) "
      ]
    },
    {
      "cell_type": "code",
      "source": [
        "X_train.head()"
      ],
      "metadata": {
        "id": "W2c9nWT_W4-o"
      },
      "execution_count": null,
      "outputs": []
    },
    {
      "cell_type": "markdown",
      "metadata": {
        "id": "jcy9Ahd_S5QG"
      },
      "source": [
        "#### 5.2. Algoritmos Machine Learning"
      ]
    },
    {
      "cell_type": "markdown",
      "metadata": {
        "id": "D0QXbFmhWsHb"
      },
      "source": [
        "### Regresion Logistica Binaria"
      ]
    },
    {
      "cell_type": "code",
      "execution_count": null,
      "metadata": {
        "id": "wA9cWtSRWsKS"
      },
      "outputs": [],
      "source": [
        "from sklearn.linear_model import LogisticRegression\n",
        "lr = LogisticRegression()"
      ]
    },
    {
      "cell_type": "code",
      "execution_count": null,
      "metadata": {
        "id": "mOAJ8SHOYKZE"
      },
      "outputs": [],
      "source": [
        "lr.fit(X_train,y_train) # Entrenamiento!"
      ]
    },
    {
      "cell_type": "code",
      "execution_count": null,
      "metadata": {
        "id": "3mPP_a_-BOc8"
      },
      "outputs": [],
      "source": [
        "# Con el algoritmo entrenado predecimos sobre la data de train y test!\n",
        "\n",
        "y_pred_train=lr.predict(X_train) # Prediccion sobre train\n",
        "y_pred_test= lr.predict(X_test) # Prediccion sobre test"
      ]
    },
    {
      "cell_type": "code",
      "execution_count": null,
      "metadata": {
        "id": "efyv1ylJQMSf"
      },
      "outputs": [],
      "source": [
        "## Metricas de validación\n",
        "def calc_metrics(y_train,y_pred_train,y_test,y_pred_test):\n",
        "    \n",
        "    # Matriz de confusion\n",
        "    print(\"Matriz confusion: Train\")\n",
        "    cm_train = confusion_matrix(y_train,y_pred_train)\n",
        "    print(cm_train)\n",
        "\n",
        "    print(\"Matriz confusion: Test\")\n",
        "    cm_test = confusion_matrix(y_test,y_pred_test)\n",
        "    print(cm_test)\n",
        "\n",
        "    # Accuracy\n",
        "    print(\"Accuracy: Train\")\n",
        "    accuracy_train=accuracy_score(y_train,y_pred_train)\n",
        "    print(accuracy_train)\n",
        "\n",
        "    print(\"Accuracy: Test\")\n",
        "    accuracy_test=accuracy_score(y_test,y_pred_test)\n",
        "    print(accuracy_test)\n",
        "\n",
        "    # Precision o Aporte del Modelo\n",
        "    print(\"Precision: Train\")\n",
        "    precision_train=precision_score(y_train,y_pred_train)\n",
        "    print(precision_train)\n",
        "\n",
        "    print(\"Precision: Test\")\n",
        "    precision_test=precision_score(y_test,y_pred_test)\n",
        "    print(precision_test)\n",
        "\n",
        "    # Recall o Sensibilidad \n",
        "    print(\"Recall: Train\")\n",
        "    recall_train=recall_score(y_train,y_pred_train)\n",
        "    print(recall_train)\n",
        "\n",
        "    print(\"Recall: Test\")\n",
        "    recall_test=recall_score(y_test,y_pred_test)\n",
        "    print(recall_test)"
      ]
    },
    {
      "cell_type": "code",
      "execution_count": null,
      "metadata": {
        "id": "GFeQjrSDQMSg"
      },
      "outputs": [],
      "source": [
        "calc_metrics(y_train,y_pred_train,y_test,y_pred_test)"
      ]
    },
    {
      "cell_type": "code",
      "execution_count": null,
      "metadata": {
        "id": "6aG_PcP5QMSg"
      },
      "outputs": [],
      "source": [
        "ind = pd.DataFrame(columns = ['Modelo', 'F1Score'])"
      ]
    },
    {
      "cell_type": "code",
      "execution_count": null,
      "metadata": {
        "id": "__XSO_UGQMSg"
      },
      "outputs": [],
      "source": [
        "f1score=f1_score(y_test,y_pred_test)\n",
        "ind = ind.append({'Modelo' : 'LogReg', 'F1Score' : f1score}, ignore_index = True)\n",
        "ind"
      ]
    },
    {
      "cell_type": "code",
      "execution_count": null,
      "metadata": {
        "id": "psNXkoS-QMSg"
      },
      "outputs": [],
      "source": [
        "y_prob = lr.predict_proba(X_test)\n",
        "kds.metrics.report(y_test, y_prob[:,1],plot_style='ggplot')"
      ]
    },
    {
      "cell_type": "code",
      "execution_count": null,
      "metadata": {
        "id": "zd-ZSqsBBOnk"
      },
      "outputs": [],
      "source": [
        "# Juntamos el ID con la clase\n",
        "data = np.hstack((X_test['BILL_AMT1'].values.reshape(-1,1), y_prob[:,1].reshape(-1,1)))\n",
        "df_submmit = pd.DataFrame(data, columns=['Real','Proba'])\n",
        "df_submmit.to_csv('test_01_lr.csv', index=False)"
      ]
    },
    {
      "cell_type": "markdown",
      "metadata": {
        "id": "DUGLRvu1QMSh"
      },
      "source": [
        "### Arbol de Clasificacion CART"
      ]
    },
    {
      "cell_type": "code",
      "execution_count": null,
      "metadata": {
        "id": "b2uhqVr4_C7w"
      },
      "outputs": [],
      "source": [
        "from sklearn.tree import DecisionTreeClassifier\n",
        "tree_expert = DecisionTreeClassifier(\n",
        "                       class_weight=None, \n",
        "                       criterion='gini',\n",
        "                       max_depth=5,   \n",
        "                       max_features=7,     \n",
        "                       max_leaf_nodes=None, \n",
        "                       min_samples_leaf=5, \n",
        "                       min_samples_split=5,\n",
        "                       min_weight_fraction_leaf=0.01, \n",
        "                       random_state=1000, \n",
        "                       splitter='best')"
      ]
    },
    {
      "cell_type": "code",
      "execution_count": null,
      "metadata": {
        "id": "pgdWvZlTBumY"
      },
      "outputs": [],
      "source": [
        "# Entrenamos!\n",
        "tree_expert = tree_expert.fit(X_train,y_train) # ajustando el modelo a mis datos"
      ]
    },
    {
      "cell_type": "code",
      "execution_count": null,
      "metadata": {
        "id": "APf2RjGhButx"
      },
      "outputs": [],
      "source": [
        "# Predecimos!\n",
        "y_pred_train = tree_expert.predict(X_train) # realizando la predicción sobre Train\n",
        "y_pred_test  = tree_expert.predict(X_test) # realizando la predicción sobre Test"
      ]
    },
    {
      "cell_type": "code",
      "execution_count": null,
      "metadata": {
        "id": "aoKUNTeKQMSh"
      },
      "outputs": [],
      "source": [
        "calc_metrics(y_train,y_pred_train,y_test,y_pred_test)"
      ]
    },
    {
      "cell_type": "code",
      "execution_count": null,
      "metadata": {
        "id": "tXInnYYXQMSi"
      },
      "outputs": [],
      "source": [
        "f1score=f1_score(y_test,y_pred_test)\n",
        "ind = ind.append({'Modelo' : 'DecisionTree', 'F1Score' : f1score}, ignore_index = True)\n",
        "ind"
      ]
    },
    {
      "cell_type": "code",
      "execution_count": null,
      "metadata": {
        "id": "fuyLZiWyQMSi"
      },
      "outputs": [],
      "source": [
        "y_prob = tree_expert.predict_proba(X_test)\n",
        "kds.metrics.report(y_test, y_prob[:,1],plot_style='ggplot')"
      ]
    },
    {
      "cell_type": "code",
      "execution_count": null,
      "metadata": {
        "id": "T794e-n2QMSi"
      },
      "outputs": [],
      "source": [
        "# Juntamos el ID con la clase\n",
        "data = np.hstack((X_test['BILL_AMT1'].values.reshape(-1,1), y_prob[:,1].reshape(-1,1)))\n",
        "df_submmit = pd.DataFrame(data, columns=['Monto','P_Aproba'])\n",
        "df_submmit.to_csv('test_02_tree.csv', index=False)"
      ]
    },
    {
      "cell_type": "markdown",
      "metadata": {
        "id": "Ewb4Q1u9epIy"
      },
      "source": [
        "### Random Forest"
      ]
    },
    {
      "cell_type": "code",
      "execution_count": null,
      "metadata": {
        "id": "Bo1lv0CHS5Rh"
      },
      "outputs": [],
      "source": [
        "from sklearn.ensemble import RandomForestClassifier\n",
        "rf = RandomForestClassifier(n_estimators=150,\n",
        "                            max_features= 7,\n",
        "                            max_depth=5\n",
        "                            ) # Numero de obs por nodo hoja\n",
        "rf.fit(X_train, y_train) # Entrenando un algoritmo"
      ]
    },
    {
      "cell_type": "code",
      "execution_count": null,
      "metadata": {
        "id": "d6txUy2BS5Rm"
      },
      "outputs": [],
      "source": [
        "# Predecir con el algoritmo entrenado para validar\n",
        "y_pred_train=rf.predict(X_train) # Prediccion sobre train\n",
        "y_pred_test= rf.predict(X_test) # Prediccion sobre test"
      ]
    },
    {
      "cell_type": "code",
      "execution_count": null,
      "metadata": {
        "id": "Gx2eqfr5S5Rs"
      },
      "outputs": [],
      "source": [
        "calc_metrics(y_train,y_pred_train,y_test,y_pred_test)"
      ]
    },
    {
      "cell_type": "code",
      "execution_count": null,
      "metadata": {
        "id": "unWNQMgPQMSj"
      },
      "outputs": [],
      "source": [
        "f1score=f1_score(y_test,y_pred_test)\n",
        "ind = ind.append({'Modelo' : 'RandomForest', 'F1Score' : f1score}, ignore_index = True)\n",
        "ind"
      ]
    },
    {
      "cell_type": "code",
      "execution_count": null,
      "metadata": {
        "id": "CJl4ZS62QMSj"
      },
      "outputs": [],
      "source": [
        "y_prob = rf.predict_proba(X_test)\n",
        "kds.metrics.report(y_test, y_prob[:,1],plot_style='ggplot')"
      ]
    },
    {
      "cell_type": "code",
      "execution_count": null,
      "metadata": {
        "id": "X3U7d4R2QMSj"
      },
      "outputs": [],
      "source": [
        "# Juntamos el ID con la clase\n",
        "data = np.hstack((X_test['BILL_AMT1'].values.reshape(-1,1), y_prob[:,1].reshape(-1,1)))\n",
        "df_submmit = pd.DataFrame(data, columns=['Monto','P_Aproba'])\n",
        "df_submmit.to_csv('test_03_rf.csv', index=False)"
      ]
    },
    {
      "cell_type": "markdown",
      "metadata": {
        "id": "AOQlbpMJlQpn"
      },
      "source": [
        "### XGBoost"
      ]
    },
    {
      "cell_type": "code",
      "execution_count": null,
      "metadata": {
        "id": "6OCL3uRtQMSk"
      },
      "outputs": [],
      "source": [
        "import xgboost as xgb\n",
        "xgb_mod=xgb.XGBClassifier(learning_rate=0.01, max_depth=3,\n",
        "       min_child_weight=1, n_estimators=50, nthread=-1,\n",
        "       objective='binary:logistic', seed=0, silent=True, subsample=.8)\n",
        "xgb_mod.fit(X_train, y_train)"
      ]
    },
    {
      "cell_type": "code",
      "execution_count": null,
      "metadata": {
        "id": "zyK7merOQMSk"
      },
      "outputs": [],
      "source": [
        "# Predecir con el algoritmo entrenado para validar\n",
        "y_pred_train=xgb_mod.predict(X_train) # Prediccion sobre train\n",
        "y_pred_test= xgb_mod.predict(X_test) # Prediccion sobre test"
      ]
    },
    {
      "cell_type": "code",
      "execution_count": null,
      "metadata": {
        "id": "gIQgqOFYQMSk"
      },
      "outputs": [],
      "source": [
        "calc_metrics(y_train,y_pred_train,y_test,y_pred_test)"
      ]
    },
    {
      "cell_type": "code",
      "execution_count": null,
      "metadata": {
        "id": "hOfiHhHmQMSk"
      },
      "outputs": [],
      "source": [
        "f1score=f1_score(y_test,y_pred_test)\n",
        "ind = ind.append({'Modelo' : 'XGBoost', 'F1Score' : f1score}, ignore_index = True)\n",
        "ind"
      ]
    },
    {
      "cell_type": "code",
      "execution_count": null,
      "metadata": {
        "id": "NqtgehxHQMSl"
      },
      "outputs": [],
      "source": [
        "kds.metrics.report(y_test, y_pred_test,plot_style='ggplot')"
      ]
    },
    {
      "cell_type": "code",
      "execution_count": null,
      "metadata": {
        "id": "wjYfr-b2QMSl"
      },
      "outputs": [],
      "source": [
        "# Juntamos el ID con la clase\n",
        "data = np.hstack((X_test['BILL_AMT1'].values.reshape(-1,1), y_pred_test.reshape(-1,1)))\n",
        "df_submmit = pd.DataFrame(data, columns=['Monto','P_Aproba'])\n",
        "df_submmit.to_csv('test_04_xgb.csv', index=False)"
      ]
    },
    {
      "cell_type": "markdown",
      "metadata": {
        "id": "fxof8GNUg2nb"
      },
      "source": [
        "### Grid Search de Parámetros"
      ]
    },
    {
      "cell_type": "code",
      "execution_count": null,
      "metadata": {
        "id": "izRpKWGcg2pi"
      },
      "outputs": [],
      "source": [
        "# Definimos la funcion de GridSearch\n",
        "from sklearn.model_selection import GridSearchCV         # Busqueda exhaustiva de la mejor combinacion\n",
        "from sklearn.model_selection import RandomizedSearchCV   # Busqueda aleatoria de la mejor combinacion\n",
        "from scipy.stats import randint as sp_randint"
      ]
    },
    {
      "cell_type": "code",
      "execution_count": null,
      "metadata": {
        "id": "oSqR9QFdg2tu"
      },
      "outputs": [],
      "source": [
        "# Configuramos el subset de parametros a trabajar\n",
        "cv_params = {'max_depth': [2,3,4],\n",
        "            'subsample':[0.7,0.8,0.9],\n",
        "             'n_estimators':[50,100,200]}"
      ]
    },
    {
      "cell_type": "code",
      "execution_count": null,
      "metadata": {
        "id": "1O6WtgcOhR58"
      },
      "outputs": [],
      "source": [
        "# Definimos un clasificador inicial, generalmente sin muchos parametros\n",
        "xgboost_t=xgb.XGBClassifier().fit(X_train, y_train)"
      ]
    },
    {
      "cell_type": "code",
      "execution_count": null,
      "metadata": {
        "id": "V6ML9NuRhR_B"
      },
      "outputs": [],
      "source": [
        "# Con el clasificador inicial, tratamos de buscar los mejores parametros\n",
        "optimized_GBM = RandomizedSearchCV(xgboost_t, cv_params, scoring = 'accuracy', cv = 5) "
      ]
    },
    {
      "cell_type": "code",
      "execution_count": null,
      "metadata": {
        "id": "N30WiM_EhSBc"
      },
      "outputs": [],
      "source": [
        "# Buscamos los parametros de acuerdo a nuestro criterio\n",
        "opGBM=optimized_GBM.fit(X_train, y_train)"
      ]
    },
    {
      "cell_type": "code",
      "execution_count": null,
      "metadata": {
        "id": "h4nPYShLg2v3"
      },
      "outputs": [],
      "source": [
        "# De acuerdo a la busqueda , nos quedamos con los mejores parametros \n",
        "print (optimized_GBM.best_params_)"
      ]
    },
    {
      "cell_type": "code",
      "execution_count": null,
      "metadata": {
        "id": "Kb6Y7KStQMSm"
      },
      "outputs": [],
      "source": [
        "# Predecimos con el algoritmo entrenado sobre el test y evaluamos\n",
        "y_pred_train=opGBM.predict(X_train)\n",
        "y_pred_test=opGBM.predict(X_test)"
      ]
    },
    {
      "cell_type": "code",
      "execution_count": null,
      "metadata": {
        "id": "VFmGE1QfQMSn"
      },
      "outputs": [],
      "source": [
        "calc_metrics(y_train,y_pred_train,y_test,y_pred_test)"
      ]
    },
    {
      "cell_type": "code",
      "execution_count": null,
      "metadata": {
        "id": "6I17a8zyQMSn"
      },
      "outputs": [],
      "source": [
        "f1score=f1_score(y_test,y_pred_test)\n",
        "ind = ind.append({'Modelo' : 'GridSearch', 'F1Score' : f1score}, ignore_index = True)\n",
        "ind"
      ]
    },
    {
      "cell_type": "code",
      "execution_count": null,
      "metadata": {
        "id": "7cVMIABYQMSn"
      },
      "outputs": [],
      "source": [
        "y_prob = opGBM.predict_proba(X_test)\n",
        "kds.metrics.report(y_test, y_prob[:,1],plot_style='ggplot')"
      ]
    },
    {
      "cell_type": "code",
      "execution_count": null,
      "metadata": {
        "id": "2cGZDOlUQMSn"
      },
      "outputs": [],
      "source": [
        "# Juntamos el ID con la clase\n",
        "data = np.hstack((X_test['BILL_AMT1'].values.reshape(-1,1), y_prob[:,1].reshape(-1,1)))\n",
        "df_submmit = pd.DataFrame(data, columns=['Monto','P_Aproba'])\n",
        "df_submmit.to_csv('test_05_opxgb.csv', index=False)"
      ]
    },
    {
      "cell_type": "markdown",
      "metadata": {
        "id": "yngIFEbjQMSn"
      },
      "source": [
        "### 6. Evaluación de Modelos"
      ]
    },
    {
      "cell_type": "code",
      "execution_count": null,
      "metadata": {
        "id": "nWDZphoxQMSo"
      },
      "outputs": [],
      "source": [
        "# Guardamos el mejor modelo entrenado para usarlo en la implementación\n",
        "import pickle\n",
        "filename = 'bestmodel.pkl'\n",
        "pickle.dump(opGBM, open(filename, 'wb'))"
      ]
    },
    {
      "cell_type": "markdown",
      "metadata": {
        "id": "sRnJ62v2QMSo"
      },
      "source": [
        "### 7. Scoring del Modelo"
      ]
    },
    {
      "cell_type": "code",
      "execution_count": null,
      "metadata": {
        "id": "xkPB5eqrS5SY"
      },
      "outputs": [],
      "source": [
        "# Todo lo realizado en el dataset de entrenamiento del modelo lo debemos replicar en el dataset de scoring"
      ]
    },
    {
      "cell_type": "code",
      "execution_count": null,
      "metadata": {
        "id": "yihrR0b6S5Sb"
      },
      "outputs": [],
      "source": [
        "data_unseen.shape"
      ]
    },
    {
      "cell_type": "code",
      "execution_count": null,
      "metadata": {
        "id": "UHCvxchzS5Ss"
      },
      "outputs": [],
      "source": [
        "# Una vez que tenemos todas las variables podemos scorear o puntuar los registros\n",
        "\n",
        "# Leemos el modelo entrenado!\n",
        "import pickle\n",
        "filename = 'bestmodel.pkl'\n",
        "mod_seg = pickle.load(open(filename, 'rb'))"
      ]
    },
    {
      "cell_type": "code",
      "execution_count": null,
      "metadata": {
        "id": "_IGiDz8kNHmP"
      },
      "outputs": [],
      "source": [
        "# Predecimos sobre el set de datos de implementacion con el modelo entrenado\n",
        "score_final=mod_seg.predict(data_unseen.drop(['DEFAULT'],axis=1)) "
      ]
    },
    {
      "cell_type": "code",
      "execution_count": null,
      "metadata": {
        "id": "d1MJJucmQMSp"
      },
      "outputs": [],
      "source": [
        "score_final.size"
      ]
    },
    {
      "cell_type": "code",
      "execution_count": null,
      "metadata": {
        "id": "L5kcXercS5S0"
      },
      "outputs": [],
      "source": [
        "# Juntamos el ID con la clase\n",
        "data = np.hstack((data_unseen['DEFAULT'].values.reshape(-1,1), score_final.reshape(-1,1)))\n",
        "# Le asignamos nombres a las columnas\n",
        "df_submmit = pd.DataFrame(data, columns=['DEFAULT','Prob'])\n",
        "# Exportamos la solucion\n",
        "df_submmit.to_csv('valida_scoring.csv', index=False)"
      ]
    },
    {
      "cell_type": "code",
      "execution_count": null,
      "metadata": {
        "id": "mgDCnX0cN2TU"
      },
      "outputs": [],
      "source": [
        ""
      ]
    }
  ],
  "metadata": {
    "colab": {
      "collapsed_sections": [],
      "name": "Copia de S03_Modelamiento_EntrenamientoyValidacion.ipynb",
      "provenance": []
    },
    "kernelspec": {
      "display_name": "Python 3",
      "language": "python",
      "name": "python3"
    },
    "language_info": {
      "codemirror_mode": {
        "name": "ipython",
        "version": 3
      },
      "file_extension": ".py",
      "mimetype": "text/x-python",
      "name": "python",
      "nbconvert_exporter": "python",
      "pygments_lexer": "ipython3",
      "version": "3.8.8"
    },
    "toc": {
      "base_numbering": 1,
      "nav_menu": {},
      "number_sections": true,
      "sideBar": true,
      "skip_h1_title": false,
      "title_cell": "Table of Contents",
      "title_sidebar": "Contents",
      "toc_cell": false,
      "toc_position": {
        "height": "calc(100% - 180px)",
        "left": "10px",
        "top": "150px",
        "width": "165px"
      },
      "toc_section_display": true,
      "toc_window_display": false
    },
    "varInspector": {
      "cols": {
        "lenName": 16,
        "lenType": 16,
        "lenVar": 40
      },
      "kernels_config": {
        "python": {
          "delete_cmd_postfix": "",
          "delete_cmd_prefix": "del ",
          "library": "var_list.py",
          "varRefreshCmd": "print(var_dic_list())"
        },
        "r": {
          "delete_cmd_postfix": ") ",
          "delete_cmd_prefix": "rm(",
          "library": "var_list.r",
          "varRefreshCmd": "cat(var_dic_list()) "
        }
      },
      "types_to_exclude": [
        "module",
        "function",
        "builtin_function_or_method",
        "instance",
        "_Feature"
      ],
      "window_display": false
    }
  },
  "nbformat": 4,
  "nbformat_minor": 0
}